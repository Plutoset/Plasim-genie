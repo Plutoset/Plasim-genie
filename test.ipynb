{
 "metadata": {
  "language_info": {
   "codemirror_mode": {
    "name": "ipython",
    "version": 3
   },
   "file_extension": ".py",
   "mimetype": "text/x-python",
   "name": "python",
   "nbconvert_exporter": "python",
   "pygments_lexer": "ipython3",
   "version": "3.7.6"
  },
  "orig_nbformat": 2,
  "kernelspec": {
   "name": "python376jvsc74a57bd0a6c8cccf23fc189a51b8b2ae4ca3b98de763e12cce4f9033fe8d82721c91cecc",
   "display_name": "Python 3.7.6 64-bit (conda)"
  }
 },
 "nbformat": 4,
 "nbformat_minor": 2,
 "cells": [
  {
   "cell_type": "code",
   "execution_count": 3,
   "metadata": {},
   "outputs": [],
   "source": [
    "import pandas as pd\n",
    "import numpy as np\n",
    "\n",
    "nyr = 155\n",
    "nlon=72\n",
    "nlat=37\n",
    "n_month=12\n",
    "idata=np.empty([nlon,nlat], dtype = int, order = 'C')\n",
    "gd=np.empty([nlon,nlat,n_month,nyr],order = 'C')\n",
    "xlat=np.empty(nlat,order = 'C')\n",
    "xlon=np.empty(nlon,order = 'C')"
   ]
  },
  {
   "cell_type": "code",
   "execution_count": 8,
   "metadata": {},
   "outputs": [],
   "source": [
    "file = 'hadslp2r.asc'\n",
    "count = 0\n",
    "with open(file,\"r\") as f:\n",
    "    while True:\n",
    "        count += 1\n",
    "        record=[]\n",
    "        nowRec=[]\n",
    "        # Get next line from file\n",
    "        line = f.readline()\n",
    "        # if line is empty\n",
    "        # end of file is reached\n",
    "        if not line:\n",
    "            break\n",
    "        \n",
    "        if count % 38 ==1:\n",
    "            pass\n",
    "        else:\n",
    "            nowRec.append(line)\n",
    "        if count % 38 ==0:\n",
    "            record.append(nowRec)\n",
    "            nowRec=[]"
   ]
  },
  {
   "cell_type": "code",
   "execution_count": null,
   "metadata": {},
   "outputs": [],
   "source": [
    "def write_to_nc_canque(data,file_name_path):\n",
    "    import netCDF4 as nc\n",
    "    lonS=np.linspace(119.885,120.536,652)\n",
    "    latS=np.linspace(29.984,29.358,627)\n",
    "    da=nc.Dataset(file_name_path,'w',format='NETCDF4')\n",
    "    da.createDimension('lons',652)  #创建坐标点\n",
    "    da.createDimension('lats',627)  #创建坐标点\n",
    "    da.createVariable(\"lon\",'f',(\"lons\"))  #添加coordinates  'f'为数据类型，不可或缺\n",
    "    da.createVariable(\"lat\",'f',(\"lats\"))  #添加coordinates  'f'为数据类型，不可或缺\n",
    "    da.variables['lat'][:]=latS     #填充数据\n",
    "    da.variables['lon'][:]=lonS     #填充数据\n",
    "    \n",
    "    da.createVariable('u','f8',('lats','lons')) #创建变量，shape=(627,652)  'f'为数据类型，不可或缺\n",
    "    da.variables['u'][:]=data       #填充数据\n",
    "    da.close()\n",
    " \n",
    "write_to_nc_canque(one,'D://new.nc')\n",
    "'''\n",
    "输入的data的shape=(627,652)\n",
    "'''\n",
    "def write_to_nc_wanmei(data,file_name_path):\n",
    "    import netCDF4 as nc\n",
    "    lonS=np.linspace(119.885,120.536,652)\n",
    "    latS=np.linspace(29.984,29.358,627)\n",
    "    da=nc.Dataset(file_name_path,'w',format='NETCDF4')\n",
    "    da.createDimension('lon',652)  #创建坐标点\n",
    "    da.createDimension('lat',627)  #创建坐标点\n",
    "    da.createVariable(\"lon\",'f',(\"lon\"))  #添加coordinates  'f'为数据类型，不可或缺\n",
    "    da.createVariable(\"lat\",'f',(\"lat\"))  #添加coordinates  'f'为数据类型，不可或缺\n",
    "    da.variables['lat'][:]=latS     #填充数据\n",
    "    da.variables['lon'][:]=lonS     #填充数据\n",
    " \n",
    "    da.createVariable('u','f8',('lat','lon')) #创建变量，shape=(627,652)  'f'为数据类型，不可或缺\n",
    "    da.variables['u'][:]=data       #填充数据 \n",
    "    da.close()\n",
    " \n",
    "write_to_nc_wanmei(one,'D://new1.nc')"
   ]
  }
 ]
}